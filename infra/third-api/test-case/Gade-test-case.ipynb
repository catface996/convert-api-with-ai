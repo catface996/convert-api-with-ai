{
 "cells": [
  {
   "cell_type": "markdown",
   "metadata": {},
   "source": [
    "# Gaode Maps Weather Information API 测试用例"
   ]
  },
  {
   "cell_type": "markdown",
   "metadata": {},
   "source": [
    "## 主流程测试用例"
   ]
  },
  {
   "cell_type": "markdown",
   "metadata": {},
   "source": [
    "### 测试用例1：查询北京的实时天气信息- **输入:**\n",
    "  - `key`: 你的API Key\n",
    "  - `city`: `Beijing`- **预期输出:**\n",
    "  - 状态码：`200`\n",
    "  - 返回包含实时天气信息的JSON"
   ]
  },
  {
   "cell_type": "code",
   "execution_count": 6,
   "metadata": {},
   "outputs": [
    {
     "name": "stdout",
     "output_type": "stream",
     "text": [
      "{\"status\":\"1\",\"count\":\"1\",\"info\":\"OK\",\"infocode\":\"10000\",\"lives\":[{\"province\":\"北京\",\"city\":\"东城区\",\"adcode\":\"110101\",\"weather\":\"雾\",\"temperature\":\"-3\",\"winddirection\":\"西南\",\"windpower\":\"≤3\",\"humidity\":\"80\",\"reporttime\":\"2025-01-25 00:07:23\",\"temperature_float\":\"-3.0\",\"humidity_float\":\"80.0\"}]}"
     ]
    }
   ],
   "source": [
    "!curl \"https://restapi.amap.com/v3/weather/weatherInfo?key=xxxx&city=110101\""
   ]
  },
  {
   "cell_type": "markdown",
   "metadata": {},
   "source": [
    "### 测试用例2：查询北京的实时和预测天气信息（扩展模式）- **输入:**\n",
    "  - `key`: 你的API Key\n",
    "  - `city`: `Beijing`\n",
    "  - `extensions`: `all`- **预期输出:**\n",
    "  - 状态码：`200`\n",
    "  - 返回包含实时和预测天气信息的JSON"
   ]
  },
  {
   "cell_type": "code",
   "execution_count": 2,
   "metadata": {},
   "outputs": [
    {
     "name": "stdout",
     "output_type": "stream",
     "text": [
      "{\"status\":\"0\",\"info\":\"INVALID_USER_KEY\",\"infocode\":\"10001\"}"
     ]
    }
   ],
   "source": [
    "!curl \"http://restapi.amap.com/v3/weather/weatherInfo?key=your_api_key_here&city=Beijing&extensions=all\""
   ]
  },
  {
   "cell_type": "markdown",
   "metadata": {},
   "source": [
    "## 分支流程测试用例"
   ]
  },
  {
   "cell_type": "markdown",
   "metadata": {},
   "source": [
    "### 测试用例3：查询北京的实时天气信息（使用城市代码）- **输入:**\n",
    "  - `key`: 你的API Key\n",
    "  - `city`: `010` (北京的城市代码)- **预期输出:**\n",
    "  - 状态码：`200`\n",
    "  - 返回包含实时天气信息的JSON"
   ]
  },
  {
   "cell_type": "code",
   "execution_count": null,
   "metadata": {},
   "outputs": [],
   "source": [
    "!curl \"http://restapi.amap.com/v3/weather/weatherInfo?key=your_api_key_here&city=010\""
   ]
  },
  {
   "cell_type": "markdown",
   "metadata": {},
   "source": [
    "### 测试用例4：查询北京的实时天气信息（使用adcode）- **输入:**\n",
    "  - `key`: 你的API Key\n",
    "  - `city`: `110100` (北京的adcode)- **预期输出:**\n",
    "  - 状态码：`200`\n",
    "  - 返回包含实时天气信息的JSON"
   ]
  },
  {
   "cell_type": "code",
   "execution_count": null,
   "metadata": {},
   "outputs": [],
   "source": [
    "!curl \"http://restapi.amap.com/v3/weather/weatherInfo?key=your_api_key_here&city=110100\""
   ]
  },
  {
   "cell_type": "markdown",
   "metadata": {},
   "source": [
    "## 异常流程测试用例"
   ]
  },
  {
   "cell_type": "markdown",
   "metadata": {},
   "source": [
    "### 测试用例5：缺少`key`参数- **输入:**\n",
    "  - `city`: `Beijing`- **预期输出:**\n",
    "  - 状态码：`403` 或其他错误码\n",
    "  - 返回错误信息"
   ]
  },
  {
   "cell_type": "code",
   "execution_count": null,
   "metadata": {},
   "outputs": [],
   "source": [
    "!curl \"http://restapi.amap.com/v3/weather/weatherInfo?city=Beijing\""
   ]
  },
  {
   "cell_type": "markdown",
   "metadata": {},
   "source": [
    "### 测试用例6：缺少`city`参数- **输入:**\n",
    "  - `key`: 你的API Key- **预期输出:**\n",
    "  - 状态码：`400` 或其他错误码\n",
    "  - 返回错误信息"
   ]
  },
  {
   "cell_type": "code",
   "execution_count": null,
   "metadata": {},
   "outputs": [],
   "source": [
    "!curl \"http://restapi.amap.com/v3/weather/weatherInfo?key=your_api_key_here\""
   ]
  },
  {
   "cell_type": "markdown",
   "metadata": {},
   "source": [
    "### 测试用例7：使用无效的`city`参数- **输入:**\n",
    "  - `key`: 你的API Key\n",
    "  - `city`: `InvalidCity`- **预期输出:**\n",
    "  - 状态码：`400` 或其他错误码\n",
    "  - 返回错误信息"
   ]
  },
  {
   "cell_type": "code",
   "execution_count": null,
   "metadata": {},
   "outputs": [],
   "source": [
    "!curl \"http://restapi.amap.com/v3/weather/weatherInfo?key=your_api_key_here&city=InvalidCity\""
   ]
  },
  {
   "cell_type": "markdown",
   "metadata": {},
   "source": [
    "### 测试用例8：使用无效的`extensions`参数- **输入:**\n",
    "  - `key`: 你的API Key\n",
    "  - `city`: `Beijing`\n",
    "  - `extensions`: `invalid`- **预期输出:**\n",
    "  - 状态码：`400` 或其他错误码\n",
    "  - 返回错误信息"
   ]
  },
  {
   "cell_type": "code",
   "execution_count": null,
   "metadata": {},
   "outputs": [],
   "source": [
    "!curl \"http://restapi.amap.com/v3/weather/weatherInfo?key=your_api_key_here&city=Beijing&extensions=invalid\""
   ]
  }
 ],
 "metadata": {
  "kernelspec": {
   "display_name": "Python 3 (ipykernel)",
   "language": "python",
   "name": "python3"
  },
  "language_info": {
   "codemirror_mode": {
    "name": "ipython",
    "version": 3
   },
   "file_extension": ".py",
   "mimetype": "text/x-python",
   "name": "python",
   "nbconvert_exporter": "python",
   "pygments_lexer": "ipython3",
   "version": "3.8.20"
  }
 },
 "nbformat": 4,
 "nbformat_minor": 4
}
