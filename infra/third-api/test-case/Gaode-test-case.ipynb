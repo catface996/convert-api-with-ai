{
 "cells": [
  {
   "cell_type": "markdown",
   "metadata": {},
   "source": [
    "# Gaode Maps Weather Information API Test Cases\n",
    "\n",
    "This notebook contains automated test cases for the Gaode Maps Weather Information API."
   ]
  },
  {
   "cell_type": "code",
   "execution_count": null,
   "metadata": {},
   "source": [
    "import requests\n",
    "import json\n",
    "from datetime import datetime\n",
    "\n",
    "# Global variables\n",
    "API_KEY = 'your_api_key_here'  # Replace with actual API key\n",
    "BASE_URL = 'http://restapi.amap.com/v3/weather/weatherInfo'\n",
    "\n",
    "# Test cities\n",
    "VALID_CITY = 'Beijing'\n",
    "INVALID_CITY = 'NonExistentCity'\n",
    "\n",
    "def make_request(params):\n",
    "    \"\"\"Helper function to make API requests\"\"\"\n",
    "    response = requests.get(BASE_URL, params=params)\n",
    "    return response.json()\n",
    "\n",
    "def validate_base_response(response):\n",
    "    \"\"\"Validate basic response structure\"\"\"\n",
    "    assert isinstance(response, dict), 'Response should be a dictionary'\n",
    "    assert 'lives' in response or 'forecasts' in response, 'Response should contain lives or forecasts'\n",
    "\n",
    "def validate_weather_data(weather_data):\n",
    "    \"\"\"Validate weather data fields\"\"\"\n",
    "    required_fields = ['city', 'weather', 'temperature', 'winddirection', 'windpower', 'humidity', 'reporttime']\n",
    "    for field in required_fields:\n",
    "        assert field in weather_data, f'Weather data should contain {field}'\n",
    "        assert weather_data[field] is not None, f'{field} should not be None'"
   ]
  },
  {
   "cell_type": "markdown",
   "metadata": {},
   "source": [
    "## Main Flow Test Cases"
   ]
  },
  {
   "cell_type": "code",
   "execution_count": null,
   "metadata": {},
   "source": [
    "def test_basic_weather_query():\n",
    "    \"\"\"Test basic weather query with required parameters\"\"\"\n",
    "    print('Running test_basic_weather_query...')\n",
    "    \n",
    "    # Test setup\n",
    "    params = {\n",
    "        'key': API_KEY,\n",
    "        'city': VALID_CITY\n",
    "    }\n",
    "    \n",
    "    # Execute request\n",
    "    response = make_request(params)\n",
    "    \n",
    "    # Assertions\n",
    "    validate_base_response(response)\n",
    "    assert 'lives' in response, 'Basic query should return lives data'\n",
    "    assert len(response['lives']) > 0, 'Lives array should not be empty'\n",
    "    validate_weather_data(response['lives'][0])\n",
    "    \n",
    "    print('✓ test_basic_weather_query passed')\n",
    "\n",
    "# Run the test\n",
    "test_basic_weather_query()"
   ]
  },
  {
   "cell_type": "markdown",
   "metadata": {},
   "source": [
    "## Branch Flow Test Cases"
   ]
  },
  {
   "cell_type": "code",
   "execution_count": null,
   "metadata": {},
   "source": [
    "def test_weather_extensions():\n",
    "    \"\"\"Test weather query with different extensions\"\"\"\n",
    "    print('Running test_weather_extensions...')\n",
    "    \n    # Test base extension\n",
    "    base_params = {\n",
    "        'key': API_KEY,\n",
    "        'city': VALID_CITY,\n",
    "        'extensions': 'base'\n",
    "    }\n",
    "    base_response = make_request(base_params)\n",
    "    validate_base_response(base_response)\n",
    "    assert 'lives' in base_response, 'Base extension should return lives data'\n",
    "    \n",
    "    # Test all extension\n",
    "    all_params = {\n",
    "        'key': API_KEY,\n",
    "        'city': VALID_CITY,\n",
    "        'extensions': 'all'\n",
    "    }\n",
    "    all_response = make_request(all_params)\n",
    "    validate_base_response(all_response)\n",
    "    assert 'forecasts' in all_response, 'All extension should return forecasts data'\n",
    "    \n",
    "    # Validate forecast data\n",
    "    forecasts = all_response['forecasts']\n",
    "    assert len(forecasts) > 0, 'Forecasts array should not be empty'\n",
    "    assert 'casts' in forecasts[0], 'Forecast should contain casts'\n",
    "    assert len(forecasts[0]['casts']) > 0, 'Casts array should not be empty'\n",
    "    \n    print('✓ test_weather_extensions passed')\n",
    "\n",
    "# Run the test\n",
    "test_weather_extensions()"
   ]
  },
  {
   "cell_type": "markdown",
   "metadata": {},
   "source": [
    "## Exception Flow Test Cases"
   ]
  },
  {
   "cell_type": "code",
   "execution_count": null,
   "metadata": {},
   "source": [
    "def test_invalid_parameters():\n",
    "    \"\"\"Test API behavior with invalid parameters\"\"\"\n",
    "    print('Running test_invalid_parameters...')\n",
    "    \n",
    "    # Test invalid API key\n",
    "    invalid_key_params = {\n",
    "        'key': 'invalid_key',\n",
    "        'city': VALID_CITY\n",
    "    }\n",
    "    invalid_key_response = make_request(invalid_key_params)\n",
    "    assert 'status' in invalid_key_response, 'Error response should contain status'\n",
    "    assert invalid_key_response['status'] != '1', 'Invalid key should return error status'\n",
    "    \n",
    "    # Test invalid city\n",
    "    invalid_city_params = {\n",
    "        'key': API_KEY,\n",
    "        'city': INVALID_CITY\n",
    "    }\n",
    "    invalid_city_response = make_request(invalid_city_params)\n",
    "    assert 'status' in invalid_city_response, 'Error response should contain status'\n",
    "    assert invalid_city_response['status'] != '1', 'Invalid city should return error status'\n",
    "    \n",
    "    # Test invalid extension\n",
    "    invalid_ext_params = {\n",
    "        'key': API_KEY,\n",
    "        'city': VALID_CITY,\n",
    "        'extensions': 'invalid'\n",
    "    }\n",
    "    invalid_ext_response = make_request(invalid_ext_params)\n",
    "    assert 'status' in invalid_ext_response, 'Error response should contain status'\n",
    "    assert invalid_ext_response['status'] != '1', 'Invalid extension should return error status'\n",
    "    \n",
    "    print('✓ test_invalid_parameters passed')\n",
    "\n",
    "# Run the test\n",
    "test_invalid_parameters()"
   ]
  },
  {
   "cell_type": "markdown",
   "metadata": {},
   "source": [
    "## Run All Tests"
   ]
  },
  {
   "cell_type": "code",
   "execution_count": null,
   "metadata": {},
   "source": [
    "def run_all_tests():\n",
    "    \"\"\"Run all test cases\"\"\"\n",
    "    print('Starting test suite...')\n",
    "    print('-' * 50)\n",
    "    \n",
    "    try:\n",
    "        test_basic_weather_query()\n",
    "        print('-' * 50)\n",
    "        test_weather_extensions()\n",
    "        print('-' * 50)\n",
    "        test_invalid_parameters()\n",
    "        print('-' * 50)\n",
    "        print('All tests completed successfully!')\n",
    "    except AssertionError as e:\n",
    "        print(f'Test failed: {str(e)}')\n",
    "    except Exception as e:\n",
    "        print(f'Unexpected error: {str(e)}')\n",
    "\n",
    "# Run all tests\n",
    "run_all_tests()"
   ]
  }
 ],
 "metadata": {
  "kernelspec": {
   "display_name": "Python 3",
   "language": "python",
   "name": "python3"
  },
  "language_info": {
   "codemirror_mode": {
    "name": "ipython",
    "version": 3
   },
   "file_extension": ".py",
   "mimetype": "text/x-python",
   "name": "python",
   "nbconvert_exporter": "python",
   "pygments_lexer": "ipython3",
   "version": "3.8.0"
  }
 },
 "nbformat": 4,
 "nbformat_minor": 4
}
